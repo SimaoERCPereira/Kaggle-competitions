{
 "cells": [
  {
   "cell_type": "code",
   "execution_count": 1,
   "id": "8b71007c",
   "metadata": {
    "_cell_guid": "b1076dfc-b9ad-4769-8c92-a6c4dae69d19",
    "_uuid": "8f2839f25d086af736a60e9eeb907d3b93b6e0e5",
    "execution": {
     "iopub.execute_input": "2024-02-06T15:14:35.619958Z",
     "iopub.status.busy": "2024-02-06T15:14:35.619130Z",
     "iopub.status.idle": "2024-02-06T15:14:36.649859Z",
     "shell.execute_reply": "2024-02-06T15:14:36.647928Z"
    },
    "papermill": {
     "duration": 1.045363,
     "end_time": "2024-02-06T15:14:36.652577",
     "exception": false,
     "start_time": "2024-02-06T15:14:35.607214",
     "status": "completed"
    },
    "tags": []
   },
   "outputs": [
    {
     "name": "stdout",
     "output_type": "stream",
     "text": [
      "/kaggle/input/titanic/train.csv\n",
      "/kaggle/input/titanic/test.csv\n",
      "/kaggle/input/titanic/gender_submission.csv\n"
     ]
    }
   ],
   "source": [
    "# This Python 3 environment comes with many helpful analytics libraries installed\n",
    "# It is defined by the kaggle/python Docker image: https://github.com/kaggle/docker-python\n",
    "# For example, here's several helpful packages to load\n",
    "\n",
    "import numpy as np # linear algebra\n",
    "import pandas as pd # data processing, CSV file I/O (e.g. pd.read_csv)\n",
    "\n",
    "# Input data files are available in the read-only \"../input/\" directory\n",
    "# For example, running this (by clicking run or pressing Shift+Enter) will list all files under the input directory\n",
    "\n",
    "import os\n",
    "for dirname, _, filenames in os.walk('/kaggle/input'):\n",
    "    for filename in filenames:\n",
    "        print(os.path.join(dirname, filename))\n",
    "\n",
    "# You can write up to 20GB to the current directory (/kaggle/working/) that gets preserved as output when you create a version using \"Save & Run All\" \n",
    "# You can also write temporary files to /kaggle/temp/, but they won't be saved outside of the current session"
   ]
  },
  {
   "cell_type": "markdown",
   "id": "847e1703",
   "metadata": {
    "papermill": {
     "duration": 0.009052,
     "end_time": "2024-02-06T15:14:36.671745",
     "exception": false,
     "start_time": "2024-02-06T15:14:36.662693",
     "status": "completed"
    },
    "tags": []
   },
   "source": [
    "****Load datasets****"
   ]
  },
  {
   "cell_type": "code",
   "execution_count": 2,
   "id": "5ebe6429",
   "metadata": {
    "execution": {
     "iopub.execute_input": "2024-02-06T15:14:36.693291Z",
     "iopub.status.busy": "2024-02-06T15:14:36.692162Z",
     "iopub.status.idle": "2024-02-06T15:14:36.727368Z",
     "shell.execute_reply": "2024-02-06T15:14:36.725724Z"
    },
    "papermill": {
     "duration": 0.049709,
     "end_time": "2024-02-06T15:14:36.730644",
     "exception": false,
     "start_time": "2024-02-06T15:14:36.680935",
     "status": "completed"
    },
    "tags": []
   },
   "outputs": [],
   "source": [
    "train_df = pd.read_csv(\"/kaggle/input/titanic/train.csv\")\n",
    "test_df = pd.read_csv(\"/kaggle/input/titanic/test.csv\")"
   ]
  },
  {
   "cell_type": "code",
   "execution_count": 3,
   "id": "7737cd33",
   "metadata": {
    "execution": {
     "iopub.execute_input": "2024-02-06T15:14:36.752729Z",
     "iopub.status.busy": "2024-02-06T15:14:36.751508Z",
     "iopub.status.idle": "2024-02-06T15:14:36.781406Z",
     "shell.execute_reply": "2024-02-06T15:14:36.779948Z"
    },
    "papermill": {
     "duration": 0.044189,
     "end_time": "2024-02-06T15:14:36.784587",
     "exception": false,
     "start_time": "2024-02-06T15:14:36.740398",
     "status": "completed"
    },
    "tags": []
   },
   "outputs": [
    {
     "data": {
      "text/html": [
       "<div>\n",
       "<style scoped>\n",
       "    .dataframe tbody tr th:only-of-type {\n",
       "        vertical-align: middle;\n",
       "    }\n",
       "\n",
       "    .dataframe tbody tr th {\n",
       "        vertical-align: top;\n",
       "    }\n",
       "\n",
       "    .dataframe thead th {\n",
       "        text-align: right;\n",
       "    }\n",
       "</style>\n",
       "<table border=\"1\" class=\"dataframe\">\n",
       "  <thead>\n",
       "    <tr style=\"text-align: right;\">\n",
       "      <th></th>\n",
       "      <th>PassengerId</th>\n",
       "      <th>Survived</th>\n",
       "      <th>Pclass</th>\n",
       "      <th>Name</th>\n",
       "      <th>Sex</th>\n",
       "      <th>Age</th>\n",
       "      <th>SibSp</th>\n",
       "      <th>Parch</th>\n",
       "      <th>Ticket</th>\n",
       "      <th>Fare</th>\n",
       "      <th>Cabin</th>\n",
       "      <th>Embarked</th>\n",
       "    </tr>\n",
       "  </thead>\n",
       "  <tbody>\n",
       "    <tr>\n",
       "      <th>0</th>\n",
       "      <td>1</td>\n",
       "      <td>0</td>\n",
       "      <td>3</td>\n",
       "      <td>Braund, Mr. Owen Harris</td>\n",
       "      <td>male</td>\n",
       "      <td>22.0</td>\n",
       "      <td>1</td>\n",
       "      <td>0</td>\n",
       "      <td>A/5 21171</td>\n",
       "      <td>7.2500</td>\n",
       "      <td>NaN</td>\n",
       "      <td>S</td>\n",
       "    </tr>\n",
       "    <tr>\n",
       "      <th>1</th>\n",
       "      <td>2</td>\n",
       "      <td>1</td>\n",
       "      <td>1</td>\n",
       "      <td>Cumings, Mrs. John Bradley (Florence Briggs Th...</td>\n",
       "      <td>female</td>\n",
       "      <td>38.0</td>\n",
       "      <td>1</td>\n",
       "      <td>0</td>\n",
       "      <td>PC 17599</td>\n",
       "      <td>71.2833</td>\n",
       "      <td>C85</td>\n",
       "      <td>C</td>\n",
       "    </tr>\n",
       "    <tr>\n",
       "      <th>2</th>\n",
       "      <td>3</td>\n",
       "      <td>1</td>\n",
       "      <td>3</td>\n",
       "      <td>Heikkinen, Miss. Laina</td>\n",
       "      <td>female</td>\n",
       "      <td>26.0</td>\n",
       "      <td>0</td>\n",
       "      <td>0</td>\n",
       "      <td>STON/O2. 3101282</td>\n",
       "      <td>7.9250</td>\n",
       "      <td>NaN</td>\n",
       "      <td>S</td>\n",
       "    </tr>\n",
       "    <tr>\n",
       "      <th>3</th>\n",
       "      <td>4</td>\n",
       "      <td>1</td>\n",
       "      <td>1</td>\n",
       "      <td>Futrelle, Mrs. Jacques Heath (Lily May Peel)</td>\n",
       "      <td>female</td>\n",
       "      <td>35.0</td>\n",
       "      <td>1</td>\n",
       "      <td>0</td>\n",
       "      <td>113803</td>\n",
       "      <td>53.1000</td>\n",
       "      <td>C123</td>\n",
       "      <td>S</td>\n",
       "    </tr>\n",
       "    <tr>\n",
       "      <th>4</th>\n",
       "      <td>5</td>\n",
       "      <td>0</td>\n",
       "      <td>3</td>\n",
       "      <td>Allen, Mr. William Henry</td>\n",
       "      <td>male</td>\n",
       "      <td>35.0</td>\n",
       "      <td>0</td>\n",
       "      <td>0</td>\n",
       "      <td>373450</td>\n",
       "      <td>8.0500</td>\n",
       "      <td>NaN</td>\n",
       "      <td>S</td>\n",
       "    </tr>\n",
       "    <tr>\n",
       "      <th>5</th>\n",
       "      <td>6</td>\n",
       "      <td>0</td>\n",
       "      <td>3</td>\n",
       "      <td>Moran, Mr. James</td>\n",
       "      <td>male</td>\n",
       "      <td>NaN</td>\n",
       "      <td>0</td>\n",
       "      <td>0</td>\n",
       "      <td>330877</td>\n",
       "      <td>8.4583</td>\n",
       "      <td>NaN</td>\n",
       "      <td>Q</td>\n",
       "    </tr>\n",
       "    <tr>\n",
       "      <th>6</th>\n",
       "      <td>7</td>\n",
       "      <td>0</td>\n",
       "      <td>1</td>\n",
       "      <td>McCarthy, Mr. Timothy J</td>\n",
       "      <td>male</td>\n",
       "      <td>54.0</td>\n",
       "      <td>0</td>\n",
       "      <td>0</td>\n",
       "      <td>17463</td>\n",
       "      <td>51.8625</td>\n",
       "      <td>E46</td>\n",
       "      <td>S</td>\n",
       "    </tr>\n",
       "    <tr>\n",
       "      <th>7</th>\n",
       "      <td>8</td>\n",
       "      <td>0</td>\n",
       "      <td>3</td>\n",
       "      <td>Palsson, Master. Gosta Leonard</td>\n",
       "      <td>male</td>\n",
       "      <td>2.0</td>\n",
       "      <td>3</td>\n",
       "      <td>1</td>\n",
       "      <td>349909</td>\n",
       "      <td>21.0750</td>\n",
       "      <td>NaN</td>\n",
       "      <td>S</td>\n",
       "    </tr>\n",
       "    <tr>\n",
       "      <th>8</th>\n",
       "      <td>9</td>\n",
       "      <td>1</td>\n",
       "      <td>3</td>\n",
       "      <td>Johnson, Mrs. Oscar W (Elisabeth Vilhelmina Berg)</td>\n",
       "      <td>female</td>\n",
       "      <td>27.0</td>\n",
       "      <td>0</td>\n",
       "      <td>2</td>\n",
       "      <td>347742</td>\n",
       "      <td>11.1333</td>\n",
       "      <td>NaN</td>\n",
       "      <td>S</td>\n",
       "    </tr>\n",
       "    <tr>\n",
       "      <th>9</th>\n",
       "      <td>10</td>\n",
       "      <td>1</td>\n",
       "      <td>2</td>\n",
       "      <td>Nasser, Mrs. Nicholas (Adele Achem)</td>\n",
       "      <td>female</td>\n",
       "      <td>14.0</td>\n",
       "      <td>1</td>\n",
       "      <td>0</td>\n",
       "      <td>237736</td>\n",
       "      <td>30.0708</td>\n",
       "      <td>NaN</td>\n",
       "      <td>C</td>\n",
       "    </tr>\n",
       "  </tbody>\n",
       "</table>\n",
       "</div>"
      ],
      "text/plain": [
       "   PassengerId  Survived  Pclass  \\\n",
       "0            1         0       3   \n",
       "1            2         1       1   \n",
       "2            3         1       3   \n",
       "3            4         1       1   \n",
       "4            5         0       3   \n",
       "5            6         0       3   \n",
       "6            7         0       1   \n",
       "7            8         0       3   \n",
       "8            9         1       3   \n",
       "9           10         1       2   \n",
       "\n",
       "                                                Name     Sex   Age  SibSp  \\\n",
       "0                            Braund, Mr. Owen Harris    male  22.0      1   \n",
       "1  Cumings, Mrs. John Bradley (Florence Briggs Th...  female  38.0      1   \n",
       "2                             Heikkinen, Miss. Laina  female  26.0      0   \n",
       "3       Futrelle, Mrs. Jacques Heath (Lily May Peel)  female  35.0      1   \n",
       "4                           Allen, Mr. William Henry    male  35.0      0   \n",
       "5                                   Moran, Mr. James    male   NaN      0   \n",
       "6                            McCarthy, Mr. Timothy J    male  54.0      0   \n",
       "7                     Palsson, Master. Gosta Leonard    male   2.0      3   \n",
       "8  Johnson, Mrs. Oscar W (Elisabeth Vilhelmina Berg)  female  27.0      0   \n",
       "9                Nasser, Mrs. Nicholas (Adele Achem)  female  14.0      1   \n",
       "\n",
       "   Parch            Ticket     Fare Cabin Embarked  \n",
       "0      0         A/5 21171   7.2500   NaN        S  \n",
       "1      0          PC 17599  71.2833   C85        C  \n",
       "2      0  STON/O2. 3101282   7.9250   NaN        S  \n",
       "3      0            113803  53.1000  C123        S  \n",
       "4      0            373450   8.0500   NaN        S  \n",
       "5      0            330877   8.4583   NaN        Q  \n",
       "6      0             17463  51.8625   E46        S  \n",
       "7      1            349909  21.0750   NaN        S  \n",
       "8      2            347742  11.1333   NaN        S  \n",
       "9      0            237736  30.0708   NaN        C  "
      ]
     },
     "execution_count": 3,
     "metadata": {},
     "output_type": "execute_result"
    }
   ],
   "source": [
    "train_df.head(10)"
   ]
  },
  {
   "cell_type": "code",
   "execution_count": 4,
   "id": "3f2540d8",
   "metadata": {
    "execution": {
     "iopub.execute_input": "2024-02-06T15:14:36.810553Z",
     "iopub.status.busy": "2024-02-06T15:14:36.810109Z",
     "iopub.status.idle": "2024-02-06T15:14:36.832314Z",
     "shell.execute_reply": "2024-02-06T15:14:36.830584Z"
    },
    "papermill": {
     "duration": 0.038411,
     "end_time": "2024-02-06T15:14:36.834891",
     "exception": false,
     "start_time": "2024-02-06T15:14:36.796480",
     "status": "completed"
    },
    "tags": []
   },
   "outputs": [
    {
     "data": {
      "text/html": [
       "<div>\n",
       "<style scoped>\n",
       "    .dataframe tbody tr th:only-of-type {\n",
       "        vertical-align: middle;\n",
       "    }\n",
       "\n",
       "    .dataframe tbody tr th {\n",
       "        vertical-align: top;\n",
       "    }\n",
       "\n",
       "    .dataframe thead th {\n",
       "        text-align: right;\n",
       "    }\n",
       "</style>\n",
       "<table border=\"1\" class=\"dataframe\">\n",
       "  <thead>\n",
       "    <tr style=\"text-align: right;\">\n",
       "      <th></th>\n",
       "      <th>PassengerId</th>\n",
       "      <th>Pclass</th>\n",
       "      <th>Name</th>\n",
       "      <th>Sex</th>\n",
       "      <th>Age</th>\n",
       "      <th>SibSp</th>\n",
       "      <th>Parch</th>\n",
       "      <th>Ticket</th>\n",
       "      <th>Fare</th>\n",
       "      <th>Cabin</th>\n",
       "      <th>Embarked</th>\n",
       "    </tr>\n",
       "  </thead>\n",
       "  <tbody>\n",
       "    <tr>\n",
       "      <th>0</th>\n",
       "      <td>892</td>\n",
       "      <td>3</td>\n",
       "      <td>Kelly, Mr. James</td>\n",
       "      <td>male</td>\n",
       "      <td>34.5</td>\n",
       "      <td>0</td>\n",
       "      <td>0</td>\n",
       "      <td>330911</td>\n",
       "      <td>7.8292</td>\n",
       "      <td>NaN</td>\n",
       "      <td>Q</td>\n",
       "    </tr>\n",
       "    <tr>\n",
       "      <th>1</th>\n",
       "      <td>893</td>\n",
       "      <td>3</td>\n",
       "      <td>Wilkes, Mrs. James (Ellen Needs)</td>\n",
       "      <td>female</td>\n",
       "      <td>47.0</td>\n",
       "      <td>1</td>\n",
       "      <td>0</td>\n",
       "      <td>363272</td>\n",
       "      <td>7.0000</td>\n",
       "      <td>NaN</td>\n",
       "      <td>S</td>\n",
       "    </tr>\n",
       "    <tr>\n",
       "      <th>2</th>\n",
       "      <td>894</td>\n",
       "      <td>2</td>\n",
       "      <td>Myles, Mr. Thomas Francis</td>\n",
       "      <td>male</td>\n",
       "      <td>62.0</td>\n",
       "      <td>0</td>\n",
       "      <td>0</td>\n",
       "      <td>240276</td>\n",
       "      <td>9.6875</td>\n",
       "      <td>NaN</td>\n",
       "      <td>Q</td>\n",
       "    </tr>\n",
       "    <tr>\n",
       "      <th>3</th>\n",
       "      <td>895</td>\n",
       "      <td>3</td>\n",
       "      <td>Wirz, Mr. Albert</td>\n",
       "      <td>male</td>\n",
       "      <td>27.0</td>\n",
       "      <td>0</td>\n",
       "      <td>0</td>\n",
       "      <td>315154</td>\n",
       "      <td>8.6625</td>\n",
       "      <td>NaN</td>\n",
       "      <td>S</td>\n",
       "    </tr>\n",
       "    <tr>\n",
       "      <th>4</th>\n",
       "      <td>896</td>\n",
       "      <td>3</td>\n",
       "      <td>Hirvonen, Mrs. Alexander (Helga E Lindqvist)</td>\n",
       "      <td>female</td>\n",
       "      <td>22.0</td>\n",
       "      <td>1</td>\n",
       "      <td>1</td>\n",
       "      <td>3101298</td>\n",
       "      <td>12.2875</td>\n",
       "      <td>NaN</td>\n",
       "      <td>S</td>\n",
       "    </tr>\n",
       "    <tr>\n",
       "      <th>5</th>\n",
       "      <td>897</td>\n",
       "      <td>3</td>\n",
       "      <td>Svensson, Mr. Johan Cervin</td>\n",
       "      <td>male</td>\n",
       "      <td>14.0</td>\n",
       "      <td>0</td>\n",
       "      <td>0</td>\n",
       "      <td>7538</td>\n",
       "      <td>9.2250</td>\n",
       "      <td>NaN</td>\n",
       "      <td>S</td>\n",
       "    </tr>\n",
       "    <tr>\n",
       "      <th>6</th>\n",
       "      <td>898</td>\n",
       "      <td>3</td>\n",
       "      <td>Connolly, Miss. Kate</td>\n",
       "      <td>female</td>\n",
       "      <td>30.0</td>\n",
       "      <td>0</td>\n",
       "      <td>0</td>\n",
       "      <td>330972</td>\n",
       "      <td>7.6292</td>\n",
       "      <td>NaN</td>\n",
       "      <td>Q</td>\n",
       "    </tr>\n",
       "    <tr>\n",
       "      <th>7</th>\n",
       "      <td>899</td>\n",
       "      <td>2</td>\n",
       "      <td>Caldwell, Mr. Albert Francis</td>\n",
       "      <td>male</td>\n",
       "      <td>26.0</td>\n",
       "      <td>1</td>\n",
       "      <td>1</td>\n",
       "      <td>248738</td>\n",
       "      <td>29.0000</td>\n",
       "      <td>NaN</td>\n",
       "      <td>S</td>\n",
       "    </tr>\n",
       "    <tr>\n",
       "      <th>8</th>\n",
       "      <td>900</td>\n",
       "      <td>3</td>\n",
       "      <td>Abrahim, Mrs. Joseph (Sophie Halaut Easu)</td>\n",
       "      <td>female</td>\n",
       "      <td>18.0</td>\n",
       "      <td>0</td>\n",
       "      <td>0</td>\n",
       "      <td>2657</td>\n",
       "      <td>7.2292</td>\n",
       "      <td>NaN</td>\n",
       "      <td>C</td>\n",
       "    </tr>\n",
       "    <tr>\n",
       "      <th>9</th>\n",
       "      <td>901</td>\n",
       "      <td>3</td>\n",
       "      <td>Davies, Mr. John Samuel</td>\n",
       "      <td>male</td>\n",
       "      <td>21.0</td>\n",
       "      <td>2</td>\n",
       "      <td>0</td>\n",
       "      <td>A/4 48871</td>\n",
       "      <td>24.1500</td>\n",
       "      <td>NaN</td>\n",
       "      <td>S</td>\n",
       "    </tr>\n",
       "  </tbody>\n",
       "</table>\n",
       "</div>"
      ],
      "text/plain": [
       "   PassengerId  Pclass                                          Name     Sex  \\\n",
       "0          892       3                              Kelly, Mr. James    male   \n",
       "1          893       3              Wilkes, Mrs. James (Ellen Needs)  female   \n",
       "2          894       2                     Myles, Mr. Thomas Francis    male   \n",
       "3          895       3                              Wirz, Mr. Albert    male   \n",
       "4          896       3  Hirvonen, Mrs. Alexander (Helga E Lindqvist)  female   \n",
       "5          897       3                    Svensson, Mr. Johan Cervin    male   \n",
       "6          898       3                          Connolly, Miss. Kate  female   \n",
       "7          899       2                  Caldwell, Mr. Albert Francis    male   \n",
       "8          900       3     Abrahim, Mrs. Joseph (Sophie Halaut Easu)  female   \n",
       "9          901       3                       Davies, Mr. John Samuel    male   \n",
       "\n",
       "    Age  SibSp  Parch     Ticket     Fare Cabin Embarked  \n",
       "0  34.5      0      0     330911   7.8292   NaN        Q  \n",
       "1  47.0      1      0     363272   7.0000   NaN        S  \n",
       "2  62.0      0      0     240276   9.6875   NaN        Q  \n",
       "3  27.0      0      0     315154   8.6625   NaN        S  \n",
       "4  22.0      1      1    3101298  12.2875   NaN        S  \n",
       "5  14.0      0      0       7538   9.2250   NaN        S  \n",
       "6  30.0      0      0     330972   7.6292   NaN        Q  \n",
       "7  26.0      1      1     248738  29.0000   NaN        S  \n",
       "8  18.0      0      0       2657   7.2292   NaN        C  \n",
       "9  21.0      2      0  A/4 48871  24.1500   NaN        S  "
      ]
     },
     "execution_count": 4,
     "metadata": {},
     "output_type": "execute_result"
    }
   ],
   "source": [
    "test_df.head(10)"
   ]
  },
  {
   "cell_type": "markdown",
   "id": "cd5eba86",
   "metadata": {
    "papermill": {
     "duration": 0.009905,
     "end_time": "2024-02-06T15:14:36.855443",
     "exception": false,
     "start_time": "2024-02-06T15:14:36.845538",
     "status": "completed"
    },
    "tags": []
   },
   "source": [
    "**Data preparation/cleasing**\n",
    "\n",
    "Check null values, duplicates, feature selection, outliers, feature engeneering, feature scaling"
   ]
  },
  {
   "cell_type": "code",
   "execution_count": 5,
   "id": "be84791b",
   "metadata": {
    "execution": {
     "iopub.execute_input": "2024-02-06T15:14:36.878541Z",
     "iopub.status.busy": "2024-02-06T15:14:36.878042Z",
     "iopub.status.idle": "2024-02-06T15:14:36.892400Z",
     "shell.execute_reply": "2024-02-06T15:14:36.890868Z"
    },
    "papermill": {
     "duration": 0.029861,
     "end_time": "2024-02-06T15:14:36.895853",
     "exception": false,
     "start_time": "2024-02-06T15:14:36.865992",
     "status": "completed"
    },
    "tags": []
   },
   "outputs": [
    {
     "data": {
      "text/plain": [
       "PassengerId    891\n",
       "Survived       891\n",
       "Pclass         891\n",
       "Name           891\n",
       "Sex            891\n",
       "Age            714\n",
       "SibSp          891\n",
       "Parch          891\n",
       "Ticket         891\n",
       "Fare           891\n",
       "Cabin          204\n",
       "Embarked       889\n",
       "dtype: int64"
      ]
     },
     "execution_count": 5,
     "metadata": {},
     "output_type": "execute_result"
    }
   ],
   "source": [
    "train_df.count()"
   ]
  },
  {
   "cell_type": "code",
   "execution_count": 6,
   "id": "208fbd4d",
   "metadata": {
    "execution": {
     "iopub.execute_input": "2024-02-06T15:14:36.919162Z",
     "iopub.status.busy": "2024-02-06T15:14:36.918582Z",
     "iopub.status.idle": "2024-02-06T15:14:36.930420Z",
     "shell.execute_reply": "2024-02-06T15:14:36.929054Z"
    },
    "papermill": {
     "duration": 0.026414,
     "end_time": "2024-02-06T15:14:36.932885",
     "exception": false,
     "start_time": "2024-02-06T15:14:36.906471",
     "status": "completed"
    },
    "tags": []
   },
   "outputs": [
    {
     "data": {
      "text/plain": [
       "PassengerId      0\n",
       "Survived         0\n",
       "Pclass           0\n",
       "Name             0\n",
       "Sex              0\n",
       "Age            177\n",
       "SibSp            0\n",
       "Parch            0\n",
       "Ticket           0\n",
       "Fare             0\n",
       "Cabin          687\n",
       "Embarked         2\n",
       "dtype: int64"
      ]
     },
     "execution_count": 6,
     "metadata": {},
     "output_type": "execute_result"
    }
   ],
   "source": [
    "train_df.isnull().sum()"
   ]
  },
  {
   "cell_type": "code",
   "execution_count": 7,
   "id": "3c879e6c",
   "metadata": {
    "execution": {
     "iopub.execute_input": "2024-02-06T15:14:36.957130Z",
     "iopub.status.busy": "2024-02-06T15:14:36.956693Z",
     "iopub.status.idle": "2024-02-06T15:14:36.967735Z",
     "shell.execute_reply": "2024-02-06T15:14:36.966349Z"
    },
    "papermill": {
     "duration": 0.02615,
     "end_time": "2024-02-06T15:14:36.970410",
     "exception": false,
     "start_time": "2024-02-06T15:14:36.944260",
     "status": "completed"
    },
    "tags": []
   },
   "outputs": [
    {
     "data": {
      "text/plain": [
       "PassengerId      0\n",
       "Pclass           0\n",
       "Name             0\n",
       "Sex              0\n",
       "Age             86\n",
       "SibSp            0\n",
       "Parch            0\n",
       "Ticket           0\n",
       "Fare             1\n",
       "Cabin          327\n",
       "Embarked         0\n",
       "dtype: int64"
      ]
     },
     "execution_count": 7,
     "metadata": {},
     "output_type": "execute_result"
    }
   ],
   "source": [
    "test_df.isnull().sum()"
   ]
  },
  {
   "cell_type": "code",
   "execution_count": 8,
   "id": "7ed94fd5",
   "metadata": {
    "execution": {
     "iopub.execute_input": "2024-02-06T15:14:36.994224Z",
     "iopub.status.busy": "2024-02-06T15:14:36.993722Z",
     "iopub.status.idle": "2024-02-06T15:14:38.914217Z",
     "shell.execute_reply": "2024-02-06T15:14:38.913227Z"
    },
    "papermill": {
     "duration": 1.935836,
     "end_time": "2024-02-06T15:14:38.916957",
     "exception": false,
     "start_time": "2024-02-06T15:14:36.981121",
     "status": "completed"
    },
    "tags": []
   },
   "outputs": [],
   "source": [
    "from sklearn.impute import SimpleImputer\n",
    "\n",
    "# For numerical columns\n",
    "\n",
    "# Initialize the imputer with your chosen strategy (mean, median, etc.)\n",
    "imputer = SimpleImputer(strategy='mean')  # Using median as an example\n",
    "\n",
    "# Fit the imputer on the training data\n",
    "# Ensure you're selecting the column as a DataFrame to maintain the 2D shape\n",
    "imputer.fit(train_df[['Fare']])\n",
    "\n",
    "# Transform both training and test datasets using the fitted imputer\n",
    "# This replaces missing values in 'Fare' based on the median of 'Fare' in the training set\n",
    "train_df['Fare'] = imputer.transform(train_df[['Fare']])\n",
    "test_df['Fare'] = imputer.transform(test_df[['Fare']])\n"
   ]
  },
  {
   "cell_type": "code",
   "execution_count": 9,
   "id": "cc75a26e",
   "metadata": {
    "execution": {
     "iopub.execute_input": "2024-02-06T15:14:38.943966Z",
     "iopub.status.busy": "2024-02-06T15:14:38.942218Z",
     "iopub.status.idle": "2024-02-06T15:14:38.955916Z",
     "shell.execute_reply": "2024-02-06T15:14:38.954681Z"
    },
    "papermill": {
     "duration": 0.029822,
     "end_time": "2024-02-06T15:14:38.959390",
     "exception": false,
     "start_time": "2024-02-06T15:14:38.929568",
     "status": "completed"
    },
    "tags": []
   },
   "outputs": [
    {
     "data": {
      "text/plain": [
       "PassengerId      0\n",
       "Pclass           0\n",
       "Name             0\n",
       "Sex              0\n",
       "Age             86\n",
       "SibSp            0\n",
       "Parch            0\n",
       "Ticket           0\n",
       "Fare             0\n",
       "Cabin          327\n",
       "Embarked         0\n",
       "dtype: int64"
      ]
     },
     "execution_count": 9,
     "metadata": {},
     "output_type": "execute_result"
    }
   ],
   "source": [
    "test_df.isnull().sum()"
   ]
  },
  {
   "cell_type": "code",
   "execution_count": 10,
   "id": "f06b5ef0",
   "metadata": {
    "execution": {
     "iopub.execute_input": "2024-02-06T15:14:38.985334Z",
     "iopub.status.busy": "2024-02-06T15:14:38.984461Z",
     "iopub.status.idle": "2024-02-06T15:14:38.992348Z",
     "shell.execute_reply": "2024-02-06T15:14:38.991491Z"
    },
    "papermill": {
     "duration": 0.022849,
     "end_time": "2024-02-06T15:14:38.994933",
     "exception": false,
     "start_time": "2024-02-06T15:14:38.972084",
     "status": "completed"
    },
    "tags": []
   },
   "outputs": [],
   "source": [
    "#Remove non numerical features \n",
    "\n",
    "train_df = train_df.drop (columns = ['Name','Ticket','Cabin','Embarked'])"
   ]
  },
  {
   "cell_type": "code",
   "execution_count": 11,
   "id": "72c79a7c",
   "metadata": {
    "execution": {
     "iopub.execute_input": "2024-02-06T15:14:39.022379Z",
     "iopub.status.busy": "2024-02-06T15:14:39.021751Z",
     "iopub.status.idle": "2024-02-06T15:14:39.036345Z",
     "shell.execute_reply": "2024-02-06T15:14:39.035299Z"
    },
    "papermill": {
     "duration": 0.031008,
     "end_time": "2024-02-06T15:14:39.039024",
     "exception": false,
     "start_time": "2024-02-06T15:14:39.008016",
     "status": "completed"
    },
    "tags": []
   },
   "outputs": [],
   "source": [
    "train_df = pd.get_dummies(train_df, columns=['Sex'])"
   ]
  },
  {
   "cell_type": "code",
   "execution_count": 12,
   "id": "fc8c94c5",
   "metadata": {
    "execution": {
     "iopub.execute_input": "2024-02-06T15:14:39.063901Z",
     "iopub.status.busy": "2024-02-06T15:14:39.063397Z",
     "iopub.status.idle": "2024-02-06T15:14:39.089201Z",
     "shell.execute_reply": "2024-02-06T15:14:39.087628Z"
    },
    "papermill": {
     "duration": 0.042222,
     "end_time": "2024-02-06T15:14:39.092189",
     "exception": false,
     "start_time": "2024-02-06T15:14:39.049967",
     "status": "completed"
    },
    "tags": []
   },
   "outputs": [
    {
     "data": {
      "text/html": [
       "<div>\n",
       "<style scoped>\n",
       "    .dataframe tbody tr th:only-of-type {\n",
       "        vertical-align: middle;\n",
       "    }\n",
       "\n",
       "    .dataframe tbody tr th {\n",
       "        vertical-align: top;\n",
       "    }\n",
       "\n",
       "    .dataframe thead th {\n",
       "        text-align: right;\n",
       "    }\n",
       "</style>\n",
       "<table border=\"1\" class=\"dataframe\">\n",
       "  <thead>\n",
       "    <tr style=\"text-align: right;\">\n",
       "      <th></th>\n",
       "      <th>PassengerId</th>\n",
       "      <th>Survived</th>\n",
       "      <th>Pclass</th>\n",
       "      <th>Age</th>\n",
       "      <th>SibSp</th>\n",
       "      <th>Parch</th>\n",
       "      <th>Fare</th>\n",
       "      <th>Sex_female</th>\n",
       "      <th>Sex_male</th>\n",
       "    </tr>\n",
       "  </thead>\n",
       "  <tbody>\n",
       "    <tr>\n",
       "      <th>0</th>\n",
       "      <td>1</td>\n",
       "      <td>0</td>\n",
       "      <td>3</td>\n",
       "      <td>22.0</td>\n",
       "      <td>1</td>\n",
       "      <td>0</td>\n",
       "      <td>7.2500</td>\n",
       "      <td>False</td>\n",
       "      <td>True</td>\n",
       "    </tr>\n",
       "    <tr>\n",
       "      <th>1</th>\n",
       "      <td>2</td>\n",
       "      <td>1</td>\n",
       "      <td>1</td>\n",
       "      <td>38.0</td>\n",
       "      <td>1</td>\n",
       "      <td>0</td>\n",
       "      <td>71.2833</td>\n",
       "      <td>True</td>\n",
       "      <td>False</td>\n",
       "    </tr>\n",
       "    <tr>\n",
       "      <th>2</th>\n",
       "      <td>3</td>\n",
       "      <td>1</td>\n",
       "      <td>3</td>\n",
       "      <td>26.0</td>\n",
       "      <td>0</td>\n",
       "      <td>0</td>\n",
       "      <td>7.9250</td>\n",
       "      <td>True</td>\n",
       "      <td>False</td>\n",
       "    </tr>\n",
       "    <tr>\n",
       "      <th>3</th>\n",
       "      <td>4</td>\n",
       "      <td>1</td>\n",
       "      <td>1</td>\n",
       "      <td>35.0</td>\n",
       "      <td>1</td>\n",
       "      <td>0</td>\n",
       "      <td>53.1000</td>\n",
       "      <td>True</td>\n",
       "      <td>False</td>\n",
       "    </tr>\n",
       "    <tr>\n",
       "      <th>4</th>\n",
       "      <td>5</td>\n",
       "      <td>0</td>\n",
       "      <td>3</td>\n",
       "      <td>35.0</td>\n",
       "      <td>0</td>\n",
       "      <td>0</td>\n",
       "      <td>8.0500</td>\n",
       "      <td>False</td>\n",
       "      <td>True</td>\n",
       "    </tr>\n",
       "    <tr>\n",
       "      <th>...</th>\n",
       "      <td>...</td>\n",
       "      <td>...</td>\n",
       "      <td>...</td>\n",
       "      <td>...</td>\n",
       "      <td>...</td>\n",
       "      <td>...</td>\n",
       "      <td>...</td>\n",
       "      <td>...</td>\n",
       "      <td>...</td>\n",
       "    </tr>\n",
       "    <tr>\n",
       "      <th>886</th>\n",
       "      <td>887</td>\n",
       "      <td>0</td>\n",
       "      <td>2</td>\n",
       "      <td>27.0</td>\n",
       "      <td>0</td>\n",
       "      <td>0</td>\n",
       "      <td>13.0000</td>\n",
       "      <td>False</td>\n",
       "      <td>True</td>\n",
       "    </tr>\n",
       "    <tr>\n",
       "      <th>887</th>\n",
       "      <td>888</td>\n",
       "      <td>1</td>\n",
       "      <td>1</td>\n",
       "      <td>19.0</td>\n",
       "      <td>0</td>\n",
       "      <td>0</td>\n",
       "      <td>30.0000</td>\n",
       "      <td>True</td>\n",
       "      <td>False</td>\n",
       "    </tr>\n",
       "    <tr>\n",
       "      <th>888</th>\n",
       "      <td>889</td>\n",
       "      <td>0</td>\n",
       "      <td>3</td>\n",
       "      <td>NaN</td>\n",
       "      <td>1</td>\n",
       "      <td>2</td>\n",
       "      <td>23.4500</td>\n",
       "      <td>True</td>\n",
       "      <td>False</td>\n",
       "    </tr>\n",
       "    <tr>\n",
       "      <th>889</th>\n",
       "      <td>890</td>\n",
       "      <td>1</td>\n",
       "      <td>1</td>\n",
       "      <td>26.0</td>\n",
       "      <td>0</td>\n",
       "      <td>0</td>\n",
       "      <td>30.0000</td>\n",
       "      <td>False</td>\n",
       "      <td>True</td>\n",
       "    </tr>\n",
       "    <tr>\n",
       "      <th>890</th>\n",
       "      <td>891</td>\n",
       "      <td>0</td>\n",
       "      <td>3</td>\n",
       "      <td>32.0</td>\n",
       "      <td>0</td>\n",
       "      <td>0</td>\n",
       "      <td>7.7500</td>\n",
       "      <td>False</td>\n",
       "      <td>True</td>\n",
       "    </tr>\n",
       "  </tbody>\n",
       "</table>\n",
       "<p>891 rows × 9 columns</p>\n",
       "</div>"
      ],
      "text/plain": [
       "     PassengerId  Survived  Pclass   Age  SibSp  Parch     Fare  Sex_female  \\\n",
       "0              1         0       3  22.0      1      0   7.2500       False   \n",
       "1              2         1       1  38.0      1      0  71.2833        True   \n",
       "2              3         1       3  26.0      0      0   7.9250        True   \n",
       "3              4         1       1  35.0      1      0  53.1000        True   \n",
       "4              5         0       3  35.0      0      0   8.0500       False   \n",
       "..           ...       ...     ...   ...    ...    ...      ...         ...   \n",
       "886          887         0       2  27.0      0      0  13.0000       False   \n",
       "887          888         1       1  19.0      0      0  30.0000        True   \n",
       "888          889         0       3   NaN      1      2  23.4500        True   \n",
       "889          890         1       1  26.0      0      0  30.0000       False   \n",
       "890          891         0       3  32.0      0      0   7.7500       False   \n",
       "\n",
       "     Sex_male  \n",
       "0        True  \n",
       "1       False  \n",
       "2       False  \n",
       "3       False  \n",
       "4        True  \n",
       "..        ...  \n",
       "886      True  \n",
       "887     False  \n",
       "888     False  \n",
       "889      True  \n",
       "890      True  \n",
       "\n",
       "[891 rows x 9 columns]"
      ]
     },
     "execution_count": 12,
     "metadata": {},
     "output_type": "execute_result"
    }
   ],
   "source": [
    "train_df"
   ]
  },
  {
   "cell_type": "code",
   "execution_count": 13,
   "id": "4d618f26",
   "metadata": {
    "execution": {
     "iopub.execute_input": "2024-02-06T15:14:39.117271Z",
     "iopub.status.busy": "2024-02-06T15:14:39.116849Z",
     "iopub.status.idle": "2024-02-06T15:14:40.325305Z",
     "shell.execute_reply": "2024-02-06T15:14:40.323989Z"
    },
    "papermill": {
     "duration": 1.225039,
     "end_time": "2024-02-06T15:14:40.328584",
     "exception": false,
     "start_time": "2024-02-06T15:14:39.103545",
     "status": "completed"
    },
    "tags": []
   },
   "outputs": [
    {
     "data": {
      "image/png": "[encoded data removed]",
      "text/plain": [
       "<Figure size 1000x800 with 2 Axes>"
      ]
     },
     "metadata": {},
     "output_type": "display_data"
    }
   ],
   "source": [
    "# Assuming df is your DataFrame and 'target' is the name of your target variable\n",
    "correlation_matrix = train_df.corr()\n",
    "\n",
    "import matplotlib.pyplot as plt\n",
    "import seaborn as sns  # Seaborn is used for the heatmap\n",
    "\n",
    "# Optional: Use seaborn style for the plot\n",
    "sns.set(style=\"white\")\n",
    "\n",
    "# Create a figure and a set of subplots\n",
    "plt.figure(figsize=(10, 8))\n",
    "\n",
    "# Plotting the heatmap\n",
    "# annot=True to print the values inside the square\n",
    "sns.heatmap(correlation_matrix, annot=True, cmap='coolwarm', fmt=\".2f\", linewidths=.5)\n",
    "\n",
    "plt.title('Correlation Matrix of Variables')\n",
    "plt.show()\n"
   ]
  },
  {
   "cell_type": "markdown",
   "id": "35c948e3",
   "metadata": {
    "papermill": {
     "duration": 0.014345,
     "end_time": "2024-02-06T15:14:40.357163",
     "exception": false,
     "start_time": "2024-02-06T15:14:40.342818",
     "status": "completed"
    },
    "tags": []
   },
   "source": [
    "**Prepare datasets**"
   ]
  },
  {
   "cell_type": "code",
   "execution_count": 14,
   "id": "088488cf",
   "metadata": {
    "execution": {
     "iopub.execute_input": "2024-02-06T15:14:40.389350Z",
     "iopub.status.busy": "2024-02-06T15:14:40.388885Z",
     "iopub.status.idle": "2024-02-06T15:14:40.396208Z",
     "shell.execute_reply": "2024-02-06T15:14:40.395043Z"
    },
    "papermill": {
     "duration": 0.026302,
     "end_time": "2024-02-06T15:14:40.398686",
     "exception": false,
     "start_time": "2024-02-06T15:14:40.372384",
     "status": "completed"
    },
    "tags": []
   },
   "outputs": [],
   "source": [
    "#Feature selection\n",
    "y = train_df[\"Survived\"]\n",
    "\n",
    "features = [\"Pclass\", \"Sex_female\",'Sex_male', \"SibSp\", \"Parch\", 'Fare']\n",
    "\n",
    "X = train_df[features]"
   ]
  },
  {
   "cell_type": "code",
   "execution_count": 15,
   "id": "5e83359c",
   "metadata": {
    "execution": {
     "iopub.execute_input": "2024-02-06T15:14:40.429853Z",
     "iopub.status.busy": "2024-02-06T15:14:40.429328Z",
     "iopub.status.idle": "2024-02-06T15:14:40.442967Z",
     "shell.execute_reply": "2024-02-06T15:14:40.441670Z"
    },
    "papermill": {
     "duration": 0.033101,
     "end_time": "2024-02-06T15:14:40.445681",
     "exception": false,
     "start_time": "2024-02-06T15:14:40.412580",
     "status": "completed"
    },
    "tags": []
   },
   "outputs": [],
   "source": [
    "#Encoding variable sex for the model\n",
    "test_df = pd.get_dummies(test_df, columns=['Sex'])\n",
    "\n",
    "#Feature selection\n",
    "features = [\"Pclass\", \"Sex_female\",\"Sex_male\", \"SibSp\", \"Parch\",'Fare']\n",
    "\n",
    "X_test = test_df[features]"
   ]
  },
  {
   "cell_type": "markdown",
   "id": "82ab43b7",
   "metadata": {
    "papermill": {
     "duration": 0.012844,
     "end_time": "2024-02-06T15:14:40.471781",
     "exception": false,
     "start_time": "2024-02-06T15:14:40.458937",
     "status": "completed"
    },
    "tags": []
   },
   "source": [
    "****Training and testing the model in a training and validation dataset****"
   ]
  },
  {
   "cell_type": "code",
   "execution_count": 16,
   "id": "fa659ae5",
   "metadata": {
    "execution": {
     "iopub.execute_input": "2024-02-06T15:14:40.501675Z",
     "iopub.status.busy": "2024-02-06T15:14:40.501126Z",
     "iopub.status.idle": "2024-02-06T15:14:40.632053Z",
     "shell.execute_reply": "2024-02-06T15:14:40.630529Z"
    },
    "papermill": {
     "duration": 0.150138,
     "end_time": "2024-02-06T15:14:40.635421",
     "exception": false,
     "start_time": "2024-02-06T15:14:40.485283",
     "status": "completed"
    },
    "tags": []
   },
   "outputs": [],
   "source": [
    "from sklearn.model_selection import train_test_split\n",
    "from sklearn.ensemble import RandomForestClassifier\n",
    "from sklearn.metrics import accuracy_score"
   ]
  },
  {
   "cell_type": "code",
   "execution_count": 17,
   "id": "0628a9f4",
   "metadata": {
    "execution": {
     "iopub.execute_input": "2024-02-06T15:14:40.665819Z",
     "iopub.status.busy": "2024-02-06T15:14:40.665247Z",
     "iopub.status.idle": "2024-02-06T15:14:40.675872Z",
     "shell.execute_reply": "2024-02-06T15:14:40.674110Z"
    },
    "papermill": {
     "duration": 0.029008,
     "end_time": "2024-02-06T15:14:40.678785",
     "exception": false,
     "start_time": "2024-02-06T15:14:40.649777",
     "status": "completed"
    },
    "tags": []
   },
   "outputs": [],
   "source": [
    "X_train, X_val, y_train, y_val = train_test_split(X, y, test_size=0.2, random_state=42)"
   ]
  },
  {
   "cell_type": "code",
   "execution_count": 18,
   "id": "b0b43abe",
   "metadata": {
    "execution": {
     "iopub.execute_input": "2024-02-06T15:14:40.706826Z",
     "iopub.status.busy": "2024-02-06T15:14:40.706336Z",
     "iopub.status.idle": "2024-02-06T15:14:40.725226Z",
     "shell.execute_reply": "2024-02-06T15:14:40.724034Z"
    },
    "papermill": {
     "duration": 0.035978,
     "end_time": "2024-02-06T15:14:40.727764",
     "exception": false,
     "start_time": "2024-02-06T15:14:40.691786",
     "status": "completed"
    },
    "tags": []
   },
   "outputs": [
    {
     "data": {
      "text/html": [
       "<div>\n",
       "<style scoped>\n",
       "    .dataframe tbody tr th:only-of-type {\n",
       "        vertical-align: middle;\n",
       "    }\n",
       "\n",
       "    .dataframe tbody tr th {\n",
       "        vertical-align: top;\n",
       "    }\n",
       "\n",
       "    .dataframe thead th {\n",
       "        text-align: right;\n",
       "    }\n",
       "</style>\n",
       "<table border=\"1\" class=\"dataframe\">\n",
       "  <thead>\n",
       "    <tr style=\"text-align: right;\">\n",
       "      <th></th>\n",
       "      <th>Pclass</th>\n",
       "      <th>Sex_female</th>\n",
       "      <th>Sex_male</th>\n",
       "      <th>SibSp</th>\n",
       "      <th>Parch</th>\n",
       "      <th>Fare</th>\n",
       "    </tr>\n",
       "  </thead>\n",
       "  <tbody>\n",
       "    <tr>\n",
       "      <th>331</th>\n",
       "      <td>1</td>\n",
       "      <td>False</td>\n",
       "      <td>True</td>\n",
       "      <td>0</td>\n",
       "      <td>0</td>\n",
       "      <td>28.5000</td>\n",
       "    </tr>\n",
       "    <tr>\n",
       "      <th>733</th>\n",
       "      <td>2</td>\n",
       "      <td>False</td>\n",
       "      <td>True</td>\n",
       "      <td>0</td>\n",
       "      <td>0</td>\n",
       "      <td>13.0000</td>\n",
       "    </tr>\n",
       "    <tr>\n",
       "      <th>382</th>\n",
       "      <td>3</td>\n",
       "      <td>False</td>\n",
       "      <td>True</td>\n",
       "      <td>0</td>\n",
       "      <td>0</td>\n",
       "      <td>7.9250</td>\n",
       "    </tr>\n",
       "    <tr>\n",
       "      <th>704</th>\n",
       "      <td>3</td>\n",
       "      <td>False</td>\n",
       "      <td>True</td>\n",
       "      <td>1</td>\n",
       "      <td>0</td>\n",
       "      <td>7.8542</td>\n",
       "    </tr>\n",
       "    <tr>\n",
       "      <th>813</th>\n",
       "      <td>3</td>\n",
       "      <td>True</td>\n",
       "      <td>False</td>\n",
       "      <td>4</td>\n",
       "      <td>2</td>\n",
       "      <td>31.2750</td>\n",
       "    </tr>\n",
       "    <tr>\n",
       "      <th>...</th>\n",
       "      <td>...</td>\n",
       "      <td>...</td>\n",
       "      <td>...</td>\n",
       "      <td>...</td>\n",
       "      <td>...</td>\n",
       "      <td>...</td>\n",
       "    </tr>\n",
       "    <tr>\n",
       "      <th>106</th>\n",
       "      <td>3</td>\n",
       "      <td>True</td>\n",
       "      <td>False</td>\n",
       "      <td>0</td>\n",
       "      <td>0</td>\n",
       "      <td>7.6500</td>\n",
       "    </tr>\n",
       "    <tr>\n",
       "      <th>270</th>\n",
       "      <td>1</td>\n",
       "      <td>False</td>\n",
       "      <td>True</td>\n",
       "      <td>0</td>\n",
       "      <td>0</td>\n",
       "      <td>31.0000</td>\n",
       "    </tr>\n",
       "    <tr>\n",
       "      <th>860</th>\n",
       "      <td>3</td>\n",
       "      <td>False</td>\n",
       "      <td>True</td>\n",
       "      <td>2</td>\n",
       "      <td>0</td>\n",
       "      <td>14.1083</td>\n",
       "    </tr>\n",
       "    <tr>\n",
       "      <th>435</th>\n",
       "      <td>1</td>\n",
       "      <td>True</td>\n",
       "      <td>False</td>\n",
       "      <td>1</td>\n",
       "      <td>2</td>\n",
       "      <td>120.0000</td>\n",
       "    </tr>\n",
       "    <tr>\n",
       "      <th>102</th>\n",
       "      <td>1</td>\n",
       "      <td>False</td>\n",
       "      <td>True</td>\n",
       "      <td>0</td>\n",
       "      <td>1</td>\n",
       "      <td>77.2875</td>\n",
       "    </tr>\n",
       "  </tbody>\n",
       "</table>\n",
       "<p>712 rows × 6 columns</p>\n",
       "</div>"
      ],
      "text/plain": [
       "     Pclass  Sex_female  Sex_male  SibSp  Parch      Fare\n",
       "331       1       False      True      0      0   28.5000\n",
       "733       2       False      True      0      0   13.0000\n",
       "382       3       False      True      0      0    7.9250\n",
       "704       3       False      True      1      0    7.8542\n",
       "813       3        True     False      4      2   31.2750\n",
       "..      ...         ...       ...    ...    ...       ...\n",
       "106       3        True     False      0      0    7.6500\n",
       "270       1       False      True      0      0   31.0000\n",
       "860       3       False      True      2      0   14.1083\n",
       "435       1        True     False      1      2  120.0000\n",
       "102       1       False      True      0      1   77.2875\n",
       "\n",
       "[712 rows x 6 columns]"
      ]
     },
     "execution_count": 18,
     "metadata": {},
     "output_type": "execute_result"
    }
   ],
   "source": [
    "X_train"
   ]
  },
  {
   "cell_type": "code",
   "execution_count": 19,
   "id": "9822e3dc",
   "metadata": {
    "execution": {
     "iopub.execute_input": "2024-02-06T15:14:40.757208Z",
     "iopub.status.busy": "2024-02-06T15:14:40.756085Z",
     "iopub.status.idle": "2024-02-06T15:14:40.762362Z",
     "shell.execute_reply": "2024-02-06T15:14:40.761535Z"
    },
    "papermill": {
     "duration": 0.023757,
     "end_time": "2024-02-06T15:14:40.764906",
     "exception": false,
     "start_time": "2024-02-06T15:14:40.741149",
     "status": "completed"
    },
    "tags": []
   },
   "outputs": [],
   "source": [
    "# from sklearn.model_selection import GridSearchCV\n",
    "# from sklearn.ensemble import RandomForestClassifier\n",
    "# import numpy as np\n",
    "\n",
    "# # Define the parameter grid\n",
    "# param_grid = {\n",
    "#     'n_estimators': [100, 200, 300],  # Number of trees in the forest\n",
    "#     'max_depth': [None,5, 10, 20, 30],  # Maximum number of levels in tree\n",
    "#     'min_samples_split': [2, 5, 10],  # Minimum number of samples required to split a node\n",
    "#     'min_samples_leaf': [1, 2, 4],  # Minimum number of samples required at each leaf node\n",
    "#     'bootstrap': [True, False]  # Method of selecting samples for training each tree\n",
    "# }\n",
    "\n",
    "# # Initialize the classifier\n",
    "# rf = RandomForestClassifier()\n",
    "\n",
    "# # Initialize the GridSearchCV object\n",
    "# grid_search = GridSearchCV(estimator=rf, param_grid=param_grid, cv=5, n_jobs=-1, verbose=2)\n",
    "\n",
    "# # Fit the grid search to the data\n",
    "# grid_search.fit(X_train, y_train)\n",
    "\n",
    "# # Best parameters found\n",
    "# print(\"Best parameters:\", grid_search.best_params_)\n"
   ]
  },
  {
   "cell_type": "code",
   "execution_count": 20,
   "id": "fb363e43",
   "metadata": {
    "execution": {
     "iopub.execute_input": "2024-02-06T15:14:40.794087Z",
     "iopub.status.busy": "2024-02-06T15:14:40.793273Z",
     "iopub.status.idle": "2024-02-06T15:14:41.123371Z",
     "shell.execute_reply": "2024-02-06T15:14:41.121526Z"
    },
    "papermill": {
     "duration": 0.348585,
     "end_time": "2024-02-06T15:14:41.126896",
     "exception": false,
     "start_time": "2024-02-06T15:14:40.778311",
     "status": "completed"
    },
    "tags": []
   },
   "outputs": [
    {
     "data": {
      "text/html": [
       "<style>#sk-container-id-1 {color: black;background-color: white;}#sk-container-id-1 pre{padding: 0;}#sk-container-id-1 div.sk-toggleable {background-color: white;}#sk-container-id-1 label.sk-toggleable__label {cursor: pointer;display: block;width: 100%;margin-bottom: 0;padding: 0.3em;box-sizing: border-box;text-align: center;}#sk-container-id-1 label.sk-toggleable__label-arrow:before {content: \"▸\";float: left;margin-right: 0.25em;color: #696969;}#sk-container-id-1 label.sk-toggleable__label-arrow:hover:before {color: black;}#sk-container-id-1 div.sk-estimator:hover label.sk-toggleable__label-arrow:before {color: black;}#sk-container-id-1 div.sk-toggleable__content {max-height: 0;max-width: 0;overflow: hidden;text-align: left;background-color: #f0f8ff;}#sk-container-id-1 div.sk-toggleable__content pre {margin: 0.2em;color: black;border-radius: 0.25em;background-color: #f0f8ff;}#sk-container-id-1 input.sk-toggleable__control:checked~div.sk-toggleable__content {max-height: 200px;max-width: 100%;overflow: auto;}#sk-container-id-1 input.sk-toggleable__control:checked~label.sk-toggleable__label-arrow:before {content: \"▾\";}#sk-container-id-1 div.sk-estimator input.sk-toggleable__control:checked~label.sk-toggleable__label {background-color: #d4ebff;}#sk-container-id-1 div.sk-label input.sk-toggleable__control:checked~label.sk-toggleable__label {background-color: #d4ebff;}#sk-container-id-1 input.sk-hidden--visually {border: 0;clip: rect(1px 1px 1px 1px);clip: rect(1px, 1px, 1px, 1px);height: 1px;margin: -1px;overflow: hidden;padding: 0;position: absolute;width: 1px;}#sk-container-id-1 div.sk-estimator {font-family: monospace;background-color: #f0f8ff;border: 1px dotted black;border-radius: 0.25em;box-sizing: border-box;margin-bottom: 0.5em;}#sk-container-id-1 div.sk-estimator:hover {background-color: #d4ebff;}#sk-container-id-1 div.sk-parallel-item::after {content: \"\";width: 100%;border-bottom: 1px solid gray;flex-grow: 1;}#sk-container-id-1 div.sk-label:hover label.sk-toggleable__label {background-color: #d4ebff;}#sk-container-id-1 div.sk-serial::before {content: \"\";position: absolute;border-left: 1px solid gray;box-sizing: border-box;top: 0;bottom: 0;left: 50%;z-index: 0;}#sk-container-id-1 div.sk-serial {display: flex;flex-direction: column;align-items: center;background-color: white;padding-right: 0.2em;padding-left: 0.2em;position: relative;}#sk-container-id-1 div.sk-item {position: relative;z-index: 1;}#sk-container-id-1 div.sk-parallel {display: flex;align-items: stretch;justify-content: center;background-color: white;position: relative;}#sk-container-id-1 div.sk-item::before, #sk-container-id-1 div.sk-parallel-item::before {content: \"\";position: absolute;border-left: 1px solid gray;box-sizing: border-box;top: 0;bottom: 0;left: 50%;z-index: -1;}#sk-container-id-1 div.sk-parallel-item {display: flex;flex-direction: column;z-index: 1;position: relative;background-color: white;}#sk-container-id-1 div.sk-parallel-item:first-child::after {align-self: flex-end;width: 50%;}#sk-container-id-1 div.sk-parallel-item:last-child::after {align-self: flex-start;width: 50%;}#sk-container-id-1 div.sk-parallel-item:only-child::after {width: 0;}#sk-container-id-1 div.sk-dashed-wrapped {border: 1px dashed gray;margin: 0 0.4em 0.5em 0.4em;box-sizing: border-box;padding-bottom: 0.4em;background-color: white;}#sk-container-id-1 div.sk-label label {font-family: monospace;font-weight: bold;display: inline-block;line-height: 1.2em;}#sk-container-id-1 div.sk-label-container {text-align: center;}#sk-container-id-1 div.sk-container {/* jupyter's `normalize.less` sets `[hidden] { display: none; }` but bootstrap.min.css set `[hidden] { display: none !important; }` so we also need the `!important` here to be able to override the default hidden behavior on the sphinx rendered scikit-learn.org. See: https://github.com/scikit-learn/scikit-learn/issues/21755 */display: inline-block !important;position: relative;}#sk-container-id-1 div.sk-text-repr-fallback {display: none;}</style><div id=\"sk-container-id-1\" class=\"sk-top-container\"><div class=\"sk-text-repr-fallback\"><pre>RandomForestClassifier(max_depth=10, min_samples_split=10, random_state=42)</pre><b>In a Jupyter environment, please rerun this cell to show the HTML representation or trust the notebook. <br />On GitHub, the HTML representation is unable to render, please try loading this page with nbviewer.org.</b></div><div class=\"sk-container\" hidden><div class=\"sk-item\"><div class=\"sk-estimator sk-toggleable\"><input class=\"sk-toggleable__control sk-hidden--visually\" id=\"sk-estimator-id-1\" type=\"checkbox\" checked><label for=\"sk-estimator-id-1\" class=\"sk-toggleable__label sk-toggleable__label-arrow\">RandomForestClassifier</label><div class=\"sk-toggleable__content\"><pre>RandomForestClassifier(max_depth=10, min_samples_split=10, random_state=42)</pre></div></div></div></div></div>"
      ],
      "text/plain": [
       "RandomForestClassifier(max_depth=10, min_samples_split=10, random_state=42)"
      ]
     },
     "execution_count": 20,
     "metadata": {},
     "output_type": "execute_result"
    }
   ],
   "source": [
    "# Initialize the model\n",
    "rf_clf = RandomForestClassifier(n_estimators=100, max_depth=10,random_state=42, min_samples_leaf= 1, min_samples_split = 10)\n",
    "\n",
    "# Train the model on the training data\n",
    "rf_clf.fit(X_train, y_train)"
   ]
  },
  {
   "cell_type": "code",
   "execution_count": 21,
   "id": "84853b53",
   "metadata": {
    "execution": {
     "iopub.execute_input": "2024-02-06T15:14:41.161718Z",
     "iopub.status.busy": "2024-02-06T15:14:41.161192Z",
     "iopub.status.idle": "2024-02-06T15:14:41.184436Z",
     "shell.execute_reply": "2024-02-06T15:14:41.183006Z"
    },
    "papermill": {
     "duration": 0.045283,
     "end_time": "2024-02-06T15:14:41.188276",
     "exception": false,
     "start_time": "2024-02-06T15:14:41.142993",
     "status": "completed"
    },
    "tags": []
   },
   "outputs": [
    {
     "name": "stdout",
     "output_type": "stream",
     "text": [
      "Accuracy of the Random Forest model: 0.79\n"
     ]
    }
   ],
   "source": [
    "# Make predictions on the test set\n",
    "y_pred = rf_clf.predict(X_val)\n",
    "\n",
    "# Calculate the accuracy of the model\n",
    "accuracy = accuracy_score(y_val, y_pred)\n",
    "print(f\"Accuracy of the Random Forest model: {accuracy:.2f}\")\n"
   ]
  },
  {
   "cell_type": "markdown",
   "id": "a8f99bd6",
   "metadata": {
    "papermill": {
     "duration": 0.015178,
     "end_time": "2024-02-06T15:14:41.219794",
     "exception": false,
     "start_time": "2024-02-06T15:14:41.204616",
     "status": "completed"
    },
    "tags": []
   },
   "source": [
    "****Final Predictions****"
   ]
  },
  {
   "cell_type": "code",
   "execution_count": 22,
   "id": "edb5db8e",
   "metadata": {
    "execution": {
     "iopub.execute_input": "2024-02-06T15:14:41.252150Z",
     "iopub.status.busy": "2024-02-06T15:14:41.251737Z",
     "iopub.status.idle": "2024-02-06T15:14:41.273855Z",
     "shell.execute_reply": "2024-02-06T15:14:41.272717Z"
    },
    "papermill": {
     "duration": 0.042004,
     "end_time": "2024-02-06T15:14:41.277033",
     "exception": false,
     "start_time": "2024-02-06T15:14:41.235029",
     "status": "completed"
    },
    "tags": []
   },
   "outputs": [],
   "source": [
    "predictions = rf_clf.predict(X_test)"
   ]
  },
  {
   "cell_type": "code",
   "execution_count": 23,
   "id": "b5e19329",
   "metadata": {
    "execution": {
     "iopub.execute_input": "2024-02-06T15:14:41.309899Z",
     "iopub.status.busy": "2024-02-06T15:14:41.309438Z",
     "iopub.status.idle": "2024-02-06T15:14:41.320309Z",
     "shell.execute_reply": "2024-02-06T15:14:41.318975Z"
    },
    "papermill": {
     "duration": 0.030259,
     "end_time": "2024-02-06T15:14:41.323098",
     "exception": false,
     "start_time": "2024-02-06T15:14:41.292839",
     "status": "completed"
    },
    "tags": []
   },
   "outputs": [
    {
     "name": "stdout",
     "output_type": "stream",
     "text": [
      "Your submission was successfully saved!\n"
     ]
    }
   ],
   "source": [
    "output = pd.DataFrame({'PassengerId': test_df.PassengerId, 'Survived': predictions})\n",
    "output.to_csv('submission.csv', index=False)\n",
    "print(\"Your submission was successfully saved!\")"
   ]
  }
 ],
 "metadata": {
  "kaggle": {
   "accelerator": "none",
   "dataSources": [
    {
     "databundleVersionId": 26502,
     "sourceId": 3136,
     "sourceType": "competition"
    }
   ],
   "dockerImageVersionId": 30646,
   "isGpuEnabled": false,
   "isInternetEnabled": true,
   "language": "python",
   "sourceType": "notebook"
  },
  "kernelspec": {
   "display_name": "Python 3",
   "language": "python",
   "name": "python3"
  },
  "language_info": {
   "codemirror_mode": {
    "name": "ipython",
    "version": 3
   },
   "file_extension": ".py",
   "mimetype": "text/x-python",
   "name": "python",
   "nbconvert_exporter": "python",
   "pygments_lexer": "ipython3",
   "version": "3.10.13"
  },
  "papermill": {
   "default_parameters": {},
   "duration": 10.243734,
   "end_time": "2024-02-06T15:14:42.164975",
   "environment_variables": {},
   "exception": null,
   "input_path": "__notebook__.ipynb",
   "output_path": "__notebook__.ipynb",
   "parameters": {},
   "start_time": "2024-02-06T15:14:31.921241",
   "version": "2.5.0"
  }
 },
 "nbformat": 4,
 "nbformat_minor": 5
}
